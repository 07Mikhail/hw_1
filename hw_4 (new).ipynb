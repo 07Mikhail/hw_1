{
 "cells": [
  {
   "cell_type": "markdown",
   "metadata": {},
   "source": [
    "## Условие"
   ]
  },
  {
   "cell_type": "code",
   "execution_count": 2,
   "metadata": {},
   "outputs": [],
   "source": [
    "documents = [\n",
    "        {\"type\": \"passport\", \"number\": \"2207\", \"name\": \"Василий Гупкин\"},\n",
    "        {\"type\": \"invoice\", \"number\": \"11\", \"name\": \"Геннадий Покемонов\"},\n",
    "        {\"type\": \"insurance\", \"number\": \"3\", \"name\": \"Аристарх Павлов\"}\n",
    "      ]\n",
    "\n",
    "directories = {\n",
    "        '1': ['2207', '11'],\n",
    "        '2': ['3'],\n",
    "        '3': []\n",
    "      }"
   ]
  },
  {
   "cell_type": "code",
   "execution_count": 25,
   "metadata": {},
   "outputs": [],
   "source": [
    "def find_name(user_number_input):\n",
    "    found = False\n",
    "    for document in documents:\n",
    "        if document[\"number\"] == user_number_input:\n",
    "            print(document[\"name\"])\n",
    "            found = True\n",
    "    if found == False:\n",
    "        print(\"Такого номера документа нет в базе.\")"
   ]
  },
  {
   "cell_type": "code",
   "execution_count": 28,
   "metadata": {},
   "outputs": [],
   "source": [
    "def find_shelf(user_number_input):\n",
    "    found = False\n",
    "    for k, v in directories.items():\n",
    "        if user_number_input in v:\n",
    "            print(f'Документ хранится на полке: {k}')\n",
    "            found = True\n",
    "    if found == False:\n",
    "        print(\"Документ не найден в базе\")"
   ]
  },
  {
   "cell_type": "code",
   "execution_count": 7,
   "metadata": {},
   "outputs": [],
   "source": [
    "def add_new(user_number_input, user_type_input, user_name_input, user_number_shelf_input):\n",
    "    for k, v in directories.items():\n",
    "        if user_number_shelf_input in directories:\n",
    "            documents.append({\"type\": user_type_input, \"number\": user_number_input, \"name\": user_name_input})\n",
    "            directories[user_number_shelf_input] = user_number_input\n",
    "    for document in documents:\n",
    "        print(f'Документ добавлен. Текущий список документов:, №: {document[\"number\"]}, тип: {document[\"type\"]}, владелец: {document[\"name\"]}, полка: {k}')"
   ]
  },
  {
   "cell_type": "code",
   "execution_count": 8,
   "metadata": {},
   "outputs": [],
   "source": [
    "def all_info():\n",
    "    for k, v in directories.items():\n",
    "        for document in documents:\n",
    "            if document[\"number\"] in v:\n",
    "                print(f'Результат: №: {document[\"number\"]}, тип: {document[\"type\"]}, владелец: {document[\"name\"]}, полка: {k}')"
   ]
  },
  {
   "cell_type": "code",
   "execution_count": 9,
   "metadata": {},
   "outputs": [],
   "source": [
    "def new_shelf(user_number_shelf_input):\n",
    "        if user_number_shelf_input in directories:\n",
    "            return (f'Такая полка уже существует. \\nТекущий перечень полок: {list(directories.keys())}')\n",
    "        else:\n",
    "            directories[user_number_shelf_input] = []\n",
    "            return (f'Полка добавлена. \\nТекущий перечень полок: {list(directories.keys())}')"
   ]
  },
  {
   "cell_type": "code",
   "execution_count": 10,
   "metadata": {},
   "outputs": [],
   "source": [
    "def del_shelf(user_number_shelf_input):\n",
    "    if user_number_shelf_input in directories:\n",
    "        if len(directories[user_number_shelf_input]) > 0:\n",
    "            return f'На полке есть документа, удалите их перед удалением полки. Текущий перечень полок:  {list(directories.values())}'\n",
    "        else:\n",
    "            del directories[user_number_shelf_input]\n",
    "            return f'Полка удалена. Текущий перечень полок: {list(directories.values())}'\n",
    "    else:\n",
    "        return 'Полки не существует'"
   ]
  },
  {
   "cell_type": "code",
   "execution_count": 30,
   "metadata": {},
   "outputs": [
    {
     "name": "stdout",
     "output_type": "stream",
     "text": [
      "Введи команду: p\n",
      "Введи номер док-та: 1\n",
      "Такого номера документа нет в базе.\n",
      "Введи команду: p\n",
      "Введи номер док-та: 11\n",
      "Геннадий Покемонов\n",
      "Введи команду: p\n",
      "Введи номер док-та: 3\n",
      "Аристарх Павлов\n",
      "Введи команду: s\n",
      "Введи номер док-та: 1\n",
      "Документ не найден в базе\n",
      "Введи команду: s\n",
      "Введи номер док-та: 11\n",
      "Документ хранится на полке: 1\n",
      "Введи команду: l\n",
      "Результат: №: 2207, тип: passport, владелец: Василий Гупкин, полка: 1\n",
      "Результат: №: 11, тип: invoice, владелец: Геннадий Покемонов, полка: 1\n",
      "Результат: №: 3, тип: insurance, владелец: Аристарх Павлов, полка: 2\n",
      "Введи команду: as\n",
      "Введи номер полки: 1\n",
      "Такая полка уже существует. \n",
      "Текущий перечень полок: ['1', '2']\n",
      "Введи команду: as\n",
      "Введи номер полки: 2\n",
      "Такая полка уже существует. \n",
      "Текущий перечень полок: ['1', '2']\n",
      "Введи команду: as\n",
      "Введи номер полки: 4\n",
      "Полка добавлена. \n",
      "Текущий перечень полок: ['1', '2', '4']\n",
      "Введи команду: as\n",
      "Введи номер полки: 3\n",
      "Полка добавлена. \n",
      "Текущий перечень полок: ['1', '2', '4', '3']\n",
      "Введи команду: ds\n",
      "Введи номер полки: 1\n",
      "На полке есть документа, удалите их перед удалением полки. Текущий перечень полок:  [['2207', '11'], ['3'], [], []]\n",
      "Введи команду: ds\n",
      "Введи номер полки: 3\n",
      "Полка удалена. Текущий перечень полок: [['2207', '11'], ['3'], []]\n",
      "Введи команду: ds\n",
      "Введи номер полки: 4\n",
      "Полка удалена. Текущий перечень полок: [['2207', '11'], ['3']]\n",
      "Введи команду: as\n",
      "Введи номер полки: 1\n",
      "Такая полка уже существует. \n",
      "Текущий перечень полок: ['1', '2']\n",
      "Введи команду: ad\n",
      "Введи номер док-та: 444\n",
      "Введите тип документа: pasport\n",
      "Введите владельца документа: m\n",
      "Введите полку для хранения: 1\n",
      "Документ добавлен. Текущий список документов:, №: 2207, тип: passport, владелец: Василий Гупкин, полка: 2\n",
      "Документ добавлен. Текущий список документов:, №: 11, тип: invoice, владелец: Геннадий Покемонов, полка: 2\n",
      "Документ добавлен. Текущий список документов:, №: 3, тип: insurance, владелец: Аристарх Павлов, полка: 2\n",
      "Документ добавлен. Текущий список документов:, №: 444, тип: pasport, владелец: m, полка: 2\n",
      "Документ добавлен. Текущий список документов:, №: 444, тип: pasport, владелец: m, полка: 2\n"
     ]
    }
   ],
   "source": [
    "def user_input():\n",
    "    user_input = ''\n",
    "    while user_input != 'q':\n",
    "        user_input = input('Введи команду: ')\n",
    "        if user_input == 'p':\n",
    "            user_number_input = input('Введи номер док-та: ')\n",
    "            find_name(user_number_input)\n",
    "        elif user_input == 's':\n",
    "            user_number_input = input('Введи номер док-та: ')\n",
    "            find_shelf(user_number_input)\n",
    "        elif user_input == 'l':\n",
    "            all_info()\n",
    "        elif user_input == 'as':\n",
    "            user_number_shelf_input = input('Введи номер полки: ')\n",
    "            print(new_shelf(user_number_shelf_input))\n",
    "        elif user_input == 'ds':\n",
    "            user_number_shelf_input = input('Введи номер полки: ')\n",
    "            print(del_shelf(user_number_shelf_input))\n",
    "        elif user_input == 'ad':\n",
    "            user_number_input = input('Введи номер док-та: ')\n",
    "            user_type_input = input('Введите тип документа: ')\n",
    "            user_name_input = input('Введите владельца документа: ')\n",
    "            user_number_shelf_input = input('Введите полку для хранения: ')\n",
    "            return add_new(user_number_input, user_type_input, user_name_input, user_number_shelf_input)\n",
    "\n",
    "user_input()"
   ]
  },
  {
   "cell_type": "code",
   "execution_count": null,
   "metadata": {},
   "outputs": [],
   "source": []
  }
 ],
 "metadata": {
  "kernelspec": {
   "display_name": "Python 3",
   "language": "python",
   "name": "python3"
  },
  "language_info": {
   "codemirror_mode": {
    "name": "ipython",
    "version": 3
   },
   "file_extension": ".py",
   "mimetype": "text/x-python",
   "name": "python",
   "nbconvert_exporter": "python",
   "pygments_lexer": "ipython3",
   "version": "3.8.5"
  }
 },
 "nbformat": 4,
 "nbformat_minor": 4
}
