{
 "cells": [
  {
   "cell_type": "code",
   "execution_count": 37,
   "metadata": {},
   "outputs": [],
   "source": [
    "import numpy as np"
   ]
  },
  {
   "cell_type": "code",
   "execution_count": 48,
   "metadata": {},
   "outputs": [
    {
     "name": "stdout",
     "output_type": "stream",
     "text": [
      "Сумма выигрыша: -4 руб., при 5 попытках\n",
      "Средний выигрыш за 1 игру: -0.8 руб., при 5 попытках\n",
      "\n",
      "Сумма выигрыша: -4 руб., при 10 попытках\n",
      "Средний выигрыш за 1 игру: -0.4 руб., при 10 попытках\n",
      "\n",
      "Сумма выигрыша: -27 руб., при 50 попытках\n",
      "Средний выигрыш за 1 игру: -0.54 руб., при 50 попытках\n",
      "\n",
      "Сумма выигрыша: 31 руб., при 100 попытках\n",
      "Средний выигрыш за 1 игру: 0.31 руб., при 100 попытках\n",
      "\n",
      "Сумма выигрыша: -41 руб., при 150 попытках\n",
      "Средний выигрыш за 1 игру: -0.2733333333333333 руб., при 150 попытках\n",
      "\n",
      "Сумма выигрыша: -47 руб., при 200 попытках\n",
      "Средний выигрыш за 1 игру: -0.235 руб., при 200 попытках\n",
      "\n",
      "Сумма выигрыша: -131 руб., при 250 попытках\n",
      "Средний выигрыш за 1 игру: -0.524 руб., при 250 попытках\n",
      "\n",
      "Сумма выигрыша: -157 руб., при 300 попытках\n",
      "Средний выигрыш за 1 игру: -0.5233333333333333 руб., при 300 попытках\n"
     ]
    }
   ],
   "source": [
    "def game_trials(trials):\n",
    "    we_spend = 0   # Потрачено рублей\n",
    "    we_return = 0  # Выиграно рублей\n",
    "    for i in range(trials):\n",
    "        random_1 = str(np.random.randint(0, 10))    # Случайное количество очков от 0 до 9\n",
    "        random_2 = str(np.random.randint(0, 10))    # Случайное количество очков от 0 до 9\n",
    "        random_3 = str(np.random.randint(0, 10))   # Случайное количество очков от 0 до 9\n",
    "        random_str = random_1 + random_2 + random_3\n",
    "        random_int = int(random_1 + random_2 + random_3)\n",
    "\n",
    "        if random_int == 777:\n",
    "            we_return += 200\n",
    "        elif random_int == 999:\n",
    "            we_return += 100\n",
    "        elif random_int == 555:\n",
    "            we_return += 50    \n",
    "        elif random_int == 333:\n",
    "            we_return += 15  \n",
    "        elif random_int == 111:\n",
    "             we_return += 10\n",
    "\n",
    "        elif random_str[-2:-1] == '77':\n",
    "            we_return += 5\n",
    "        elif random_str[-1] == '7':\n",
    "            we_return += 3\n",
    "        elif random_str[-2:-1] == '00':\n",
    "            we_return += 2\n",
    "        elif random_str[-1] == '0':\n",
    "            we_return += 1\n",
    "        we_spend +=1\n",
    "    result = we_return - we_spend         # Выгодна ли игра игроку?\n",
    "    result_for_1_game = result/trials     # Сколько в среднем приобретает или теряет игрок за одну игру?\n",
    "    print(f'Сумма выигрыша: {result} руб., при {trials} попытках')\n",
    "    print(f'Средний выигрыш за 1 игру: {result_for_1_game} руб., при {trials} попытках')\n",
    "        \n",
    "        \n",
    "game_trials(5)\n",
    "print()\n",
    "game_trials(10)\n",
    "print()\n",
    "game_trials(50)\n",
    "print()\n",
    "game_trials(100)\n",
    "print()\n",
    "game_trials(150)\n",
    "print()\n",
    "game_trials(200)\n",
    "print()\n",
    "game_trials(250)\n",
    "print()\n",
    "game_trials(300)"
   ]
  },
  {
   "cell_type": "markdown",
   "metadata": {},
   "source": [
    "#### Чем выше частота игр, тем менее выгодна игра и тем меньше средний выигрыш за 1 игру"
   ]
  }
 ],
 "metadata": {
  "kernelspec": {
   "display_name": "Python 3",
   "language": "python",
   "name": "python3"
  },
  "language_info": {
   "codemirror_mode": {
    "name": "ipython",
    "version": 3
   },
   "file_extension": ".py",
   "mimetype": "text/x-python",
   "name": "python",
   "nbconvert_exporter": "python",
   "pygments_lexer": "ipython3",
   "version": "3.8.5"
  }
 },
 "nbformat": 4,
 "nbformat_minor": 4
}
