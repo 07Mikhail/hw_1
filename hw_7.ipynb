{
 "cells": [
  {
   "cell_type": "code",
   "execution_count": 1,
   "metadata": {},
   "outputs": [],
   "source": [
    "import requests ## Для отправки запросов на сайт\n",
    "import json ## Для обработки формата json в dict"
   ]
  },
  {
   "cell_type": "markdown",
   "metadata": {},
   "source": [
    "## Задача №1"
   ]
  },
  {
   "cell_type": "code",
   "execution_count": 2,
   "metadata": {},
   "outputs": [],
   "source": [
    "def return_json_and_dict():\n",
    "    try:\n",
    "        responce = requests.get('https://www.cbr-xml-daily.ru/daily_json.js') ## Запрос на сайт безопасным методом get с возвратом json данных\n",
    "        responce_dict = responce.json() ## Перевод формата json данных в dict\n",
    "        return responce_dict\n",
    "    except:\n",
    "        print('Ошибка возврата данных')"
   ]
  },
  {
   "cell_type": "code",
   "execution_count": 8,
   "metadata": {},
   "outputs": [],
   "source": [
    "def print_value(responce_dict):\n",
    "    try:\n",
    "        result_dict = dict() ## Будем записывать итоговые значения\n",
    "        count_i = 0 ## Для сравнения \"Value\"\n",
    "        for v in responce_dict[\"Valute\"].values():\n",
    "            if v[\"Value\"] not in result_dict.keys():\n",
    "                result_dict[v[\"Value\"]] = v[\"Name\"] ## все данные собрали в result_dict\n",
    "        for k, v in result_dict.items():\n",
    "            if k > count_i:\n",
    "                count_i = k\n",
    "        print(v) ## Возвращает название валюты (поле ‘Name’) с максимальным значением курса\n",
    "    except:\n",
    "        print('Ошибка обработки данных функции print_value')"
   ]
  },
  {
   "cell_type": "code",
   "execution_count": 4,
   "metadata": {},
   "outputs": [],
   "source": [
    "def return_USD(responce_dict): ## Для себя\n",
    "    try:\n",
    "        for v in responce_dict[\"Valute\"].values():\n",
    "            if v[\"Name\"] == \"Доллар США\":\n",
    "                print(f'{v[\"Value\"]}, данные на {responce_dict[\"Date\"]}')\n",
    "    except:\n",
    "        print('Ошибка обработки данных функции return_USD')"
   ]
  },
  {
   "cell_type": "code",
   "execution_count": 9,
   "metadata": {},
   "outputs": [
    {
     "name": "stdout",
     "output_type": "stream",
     "text": [
      "Японских иен\n"
     ]
    }
   ],
   "source": [
    "if __name__ == '__main__':\n",
    "    print_value(return_json_and_dict())\n",
    "#     return_USD(return_json_and_dict())"
   ]
  },
  {
   "cell_type": "markdown",
   "metadata": {},
   "source": [
    "## Задача №2"
   ]
  },
  {
   "cell_type": "code",
   "execution_count": 12,
   "metadata": {},
   "outputs": [
    {
     "name": "stdout",
     "output_type": "stream",
     "text": [
      "0.15210000000000434\n"
     ]
    }
   ],
   "source": [
    "class Rate:\n",
    "    def __init__(self, format_='value', diff=True):\n",
    "        self.format_ = format_\n",
    "        self.diff = diff\n",
    "        \n",
    "    def exchange_rates(self):\n",
    "        r = requests.get('https://www.cbr-xml-daily.ru/daily_json.js')\n",
    "        return r.json()['Valute']\n",
    "    \n",
    "    def make_format(self, currency):\n",
    "        response = self.exchange_rates()\n",
    "        if currency in response:\n",
    "            if self.format_ == 'full':\n",
    "                return response[currency]\n",
    "\n",
    "            if self.format_ == 'value' and self.diff == True:\n",
    "                return response[currency]['Value'] - response[currency]['Previous']\n",
    "        return 'Error'\n",
    "    \n",
    "    def eur(self):\n",
    "        return self.make_format('EUR')\n",
    "    \n",
    "    def usd(self):\n",
    "        return self.make_format('USD')\n",
    "\n",
    "    def AZN(self):\n",
    "        return self.make_format('AZN')\n",
    "\n",
    "a = Rate(format_='value', diff=True)\n",
    "print(a.usd())"
   ]
  },
  {
   "cell_type": "markdown",
   "metadata": {},
   "source": [
    "## Задача №3"
   ]
  },
  {
   "cell_type": "code",
   "execution_count": 13,
   "metadata": {},
   "outputs": [],
   "source": [
    "class Employee:\n",
    "    def __init__(self, name, seniority):\n",
    "        self.name = name\n",
    "        self.seniority = seniority\n",
    "        self.grade = 1\n",
    "        self.award = 2   ## кол-во премий базово\n",
    "  \n",
    "    def grade_up(self):\n",
    "        self.grade += 1\n",
    "\n",
    "    def publish_grade(self): ## справка по сотруднику\n",
    "        return (f'Имя - {self.name}, грейд = {self.grade}, кол-во премий = {self.award}')\n",
    "\n",
    "    def international_award(self): ## получение международной премии\n",
    "        self.grade += 2\n",
    "  \n",
    "    def check_it(self):\n",
    "        pass"
   ]
  },
  {
   "cell_type": "code",
   "execution_count": 14,
   "metadata": {},
   "outputs": [
    {
     "name": "stdout",
     "output_type": "stream",
     "text": [
      "Имя - Александр, грейд = 1, кол-во премий = 2\n",
      "<bound method Employee.grade_up of <__main__.Designer object at 0x0000022690C3A100>>\n",
      "Имя - Александр, грейд = 1, кол-во премий = 2\n"
     ]
    }
   ],
   "source": [
    "class Designer(Employee):\n",
    "    def __init__(self, name, seniority):\n",
    "        super().__init__(name, seniority)\n",
    "  \n",
    "    def check_it(self):\n",
    "        self.seniority += 1  \n",
    "        if self.seniority % 7 == 0: ## повышение на 1 грейд за каждые 7 баллов\n",
    "            self.grade_up()\n",
    "\n",
    "### Control\n",
    "alex = Designer('Александр', 0)\n",
    "print(alex.publish_grade())\n",
    "print(alex.grade_up) ### не увеличивает\n",
    "print(alex.publish_grade())"
   ]
  },
  {
   "cell_type": "code",
   "execution_count": null,
   "metadata": {},
   "outputs": [],
   "source": []
  }
 ],
 "metadata": {
  "kernelspec": {
   "display_name": "Python 3",
   "language": "python",
   "name": "python3"
  },
  "language_info": {
   "codemirror_mode": {
    "name": "ipython",
    "version": 3
   },
   "file_extension": ".py",
   "mimetype": "text/x-python",
   "name": "python",
   "nbconvert_exporter": "python",
   "pygments_lexer": "ipython3",
   "version": "3.8.5"
  }
 },
 "nbformat": 4,
 "nbformat_minor": 4
}
