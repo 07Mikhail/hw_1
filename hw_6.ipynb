{
 "cells": [
  {
   "cell_type": "markdown",
   "metadata": {},
   "source": [
    "## Задача №1"
   ]
  },
  {
   "cell_type": "code",
   "execution_count": 1,
   "metadata": {},
   "outputs": [],
   "source": [
    "from datetime import datetime"
   ]
  },
  {
   "cell_type": "code",
   "execution_count": 20,
   "metadata": {},
   "outputs": [],
   "source": [
    "def target_location(location):\n",
    "    list_str = list() #В ЭТОТ СПИСОК ДОБАВИМ ПЕРЕМЕННЫЕ, КОТОРЫЕ БУДУТ АРГУМЕНТАМИ СЛЕДУЮЩЕЙ ФУНКЦИИ\n",
    "    if location == 'T':\n",
    "        str_1 = 'Wednesday, October 2, 2002'\n",
    "        str_2 = '%A, %B %d, %Y'\n",
    "        list_str.append(str_1)\n",
    "        list_str.append(str_2)\n",
    "    elif location == 'TThe_Guardian':\n",
    "        str_1 = 'Friday, 11.10.13'\n",
    "        str_2 = '%A, %d.%m.%y'\n",
    "        list_str.append(str_1)\n",
    "        list_str.append(str_2)\n",
    "    elif location == 'Daily_News':\n",
    "        str_1 = 'Thursday, 18 August 1977'\n",
    "        str_2 = '%A, %d %B %Y'\n",
    "        list_str.append(str_1)\n",
    "        list_str.append(str_2)\n",
    "    return list_str"
   ]
  },
  {
   "cell_type": "code",
   "execution_count": 21,
   "metadata": {},
   "outputs": [],
   "source": [
    "def date_datetime(list_str):\n",
    "    date_datetime = datetime.strptime(list_str[0], list_str[1])\n",
    "    print(date_datetime.date())"
   ]
  },
  {
   "cell_type": "code",
   "execution_count": 22,
   "metadata": {},
   "outputs": [
    {
     "name": "stdout",
     "output_type": "stream",
     "text": [
      "Введите локацию: TThe_Guardian\n",
      "2013-10-11\n"
     ]
    }
   ],
   "source": [
    "if __name__ == '__main__':\n",
    "    date_datetime(target_location(location = input('Введите локацию: ')))"
   ]
  },
  {
   "cell_type": "markdown",
   "metadata": {},
   "source": [
    "## Задача №2"
   ]
  },
  {
   "cell_type": "code",
   "execution_count": 28,
   "metadata": {},
   "outputs": [
    {
     "name": "stdout",
     "output_type": "stream",
     "text": [
      "2018-04-02222 - Дата некорректна\n",
      "2018-02-10 - Дата корректна\n",
      "8029-02-02 - Дата корректна\n"
     ]
    }
   ],
   "source": [
    "stream = ['2018-04-02222', '2018-02-10', '8029-02-02']\n",
    "\n",
    "def correct_date():\n",
    "    for i in stream:\n",
    "        try:\n",
    "            py_date_datetime = datetime.strptime(i, '%Y-%m-%d')\n",
    "            print(f'{i} - Дата корректна')\n",
    "        except:\n",
    "            print(f'{i} - Дата некорректна')\n",
    "correct_date()"
   ]
  },
  {
   "cell_type": "markdown",
   "metadata": {},
   "source": [
    "## Задача №3"
   ]
  },
  {
   "cell_type": "code",
   "execution_count": 29,
   "metadata": {},
   "outputs": [],
   "source": [
    "from datetime import timedelta"
   ]
  },
  {
   "cell_type": "code",
   "execution_count": 32,
   "metadata": {},
   "outputs": [
    {
     "name": "stdout",
     "output_type": "stream",
     "text": [
      "Введите дату старта в формате YYYY-MM-DD: 2021-12-05\n",
      "Введите дату окончания в формате YYYY-MM-DD: 2021-12-07\n",
      "[datetime.datetime(2021, 12, 5, 0, 0)]\n"
     ]
    }
   ],
   "source": [
    "def date_range():\n",
    "    py_list_date = list() ### в этот список будем добавлять все даты в формате python\n",
    "    input_list_date = list() ### в этот список будем добавлять все даты в формате ввода\n",
    "    start_date = input('Введите дату старта в формате YYYY-MM-DD: ')\n",
    "    end_date = input('Введите дату окончания в формате YYYY-MM-DD: ')\n",
    "    try: ### первая проверка\n",
    "        py_start_date = datetime.strptime(start_date,'%Y-%m-%d') ### перевод в формат python, перевод возможен - проверка пройдена\n",
    "        py_end_date = datetime.strptime(end_date,'%Y-%m-%d') ### перевод в формат python, перевод возможен - проверка пройдена\n",
    "        try: ### вторая проверка\n",
    "            while py_start_date < py_end_date:\n",
    "                py_list_date.append(py_start_date) ### добавляем в список py_list_date\n",
    "                py_start_date += datetime.timedelta(days=1) ### увеличиваем на 1, цикл\n",
    "            for i in py_list_date: ### вышли из цикла while, отрабатываем цикл for\n",
    "                correct_date = datetime.strftime(i,'%Y-%m-%d')\n",
    "                if correct_date not in input_list_date:\n",
    "                    input_list_date.append(correct_date)\n",
    "                    print(input_list_date)\n",
    "        except:\n",
    "            print(py_list_date)\n",
    "    except:\n",
    "        print(py_list_date)\n",
    "date_range() "
   ]
  },
  {
   "cell_type": "code",
   "execution_count": null,
   "metadata": {},
   "outputs": [],
   "source": []
  }
 ],
 "metadata": {
  "kernelspec": {
   "display_name": "Python 3",
   "language": "python",
   "name": "python3"
  },
  "language_info": {
   "codemirror_mode": {
    "name": "ipython",
    "version": 3
   },
   "file_extension": ".py",
   "mimetype": "text/x-python",
   "name": "python",
   "nbconvert_exporter": "python",
   "pygments_lexer": "ipython3",
   "version": "3.8.5"
  }
 },
 "nbformat": 4,
 "nbformat_minor": 4
}
