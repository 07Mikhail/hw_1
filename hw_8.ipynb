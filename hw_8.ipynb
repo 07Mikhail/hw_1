{
 "cells": [
  {
   "cell_type": "code",
   "execution_count": 1,
   "metadata": {},
   "outputs": [],
   "source": [
    "import re"
   ]
  },
  {
   "cell_type": "markdown",
   "metadata": {},
   "source": [
    "### Задача №1"
   ]
  },
  {
   "cell_type": "code",
   "execution_count": 2,
   "metadata": {},
   "outputs": [
    {
     "name": "stdout",
     "output_type": "stream",
     "text": [
      "ТН: а202аа22\n",
      "Результат: Номер а202аа22 валиден. Регион: 22\n"
     ]
    }
   ],
   "source": [
    "def input_str():\n",
    "    car_id = input('ТН: ')\n",
    "    pattern_search = re.search(r'\\w{1}\\d{3}\\w{2}\\d{2,3}', car_id) \n",
    "    print(f'Результат: Номер {car_id} валиден. Регион: {car_id[-2:]}' if pattern_search else f'Результат: Номер {car_id} не валиден.')\n",
    "input_str()"
   ]
  },
  {
   "cell_type": "markdown",
   "metadata": {},
   "source": [
    "### Задача №2"
   ]
  },
  {
   "cell_type": "code",
   "execution_count": 3,
   "metadata": {},
   "outputs": [
    {
     "name": "stdout",
     "output_type": "stream",
     "text": [
      "Напишите функцию, которая будет удалять все последовательные повторы слов из заданной строки при помощи регулярных выражений.\n"
     ]
    }
   ],
   "source": [
    "some_string = 'Напишите функцию функцию, которая будет будет будет будет удалять все все все все последовательные повторы слов из из из из заданной строки строки при помощи регулярных выражений.'\n",
    "def del_repeat():\n",
    "    correct_str = re.sub(r'(\\w+)(\\s\\1)+', r'\\1', some_string)\n",
    "    print(correct_str)\n",
    "del_repeat()"
   ]
  },
  {
   "cell_type": "markdown",
   "metadata": {},
   "source": [
    "### Задача №3"
   ]
  },
  {
   "cell_type": "code",
   "execution_count": 5,
   "metadata": {},
   "outputs": [
    {
     "name": "stdout",
     "output_type": "stream",
     "text": [
      "КТТДП"
     ]
    }
   ],
   "source": [
    "some_words = 'какой-то Текст для Примера'\n",
    "def some_dict():\n",
    "    new_words = some_words.upper()\n",
    "    result = re.split(r'\\W+',new_words) ## Разделяем по словам\n",
    "    for i in result:\n",
    "        print(i[0], end='')\n",
    "some_dict()"
   ]
  },
  {
   "cell_type": "markdown",
   "metadata": {},
   "source": [
    "### Задача №4"
   ]
  },
  {
   "cell_type": "code",
   "execution_count": 14,
   "metadata": {},
   "outputs": [
    {
     "name": "stdout",
     "output_type": "stream",
     "text": [
      "Результат: ['@gmail.com']: 2\n",
      "Результат: []: 1\n",
      "Результат: []: 1\n",
      "Результат: []: 2\n"
     ]
    }
   ],
   "source": [
    "emails = ['test@gmail.com', 'xyz@test.in', 'test@ya.ru', 'xyz@mail.ru', 'xyz@ya.ya', 'xyz@gmail.com']\n",
    "def count_emails():\n",
    "    com_count = 0\n",
    "    in_count = 0\n",
    "    ya_count = 0\n",
    "    ru_count = 0\n",
    "\n",
    "    for email in emails:                              ## поиск количества вхождений\n",
    "        if re.findall(r'[\\w\\d]+\\@[\\w]+\\.com', email):\n",
    "            com_count += 1\n",
    "        if re.findall(r'[\\w\\d]+\\@[\\w]+\\.in', email):\n",
    "            in_count += 1\n",
    "        if re.findall(r'[\\w\\d]+\\@[\\w]+\\.ya', email):\n",
    "            ya_count += 1\n",
    "        if re.findall(r'[\\w\\d]+\\@[\\w]+\\.ru', email):\n",
    "            ru_count += 1\n",
    "  \n",
    "    domen_com = re.findall(r'\\@[\\w]+\\.com', email)\n",
    "    domen_in = re.findall(r'\\@[\\w]+\\.in', email)\n",
    "    domen_ya = re.findall(r'\\@[\\w]+\\.ya', email)\n",
    "    domen_ru = re.findall(r'\\@[\\w]+\\.ru', email)\n",
    "\n",
    "    print(f\"Результат: {domen_com}: {com_count}\")\n",
    "    print(f\"Результат: {domen_in}: {in_count}\")\n",
    "    print(f\"Результат: {domen_ya}: {ya_count}\")\n",
    "    print(f\"Результат: {domen_ru}: {ru_count}\")\n",
    "count_emails()"
   ]
  },
  {
   "cell_type": "code",
   "execution_count": null,
   "metadata": {},
   "outputs": [],
   "source": []
  }
 ],
 "metadata": {
  "kernelspec": {
   "display_name": "Python 3",
   "language": "python",
   "name": "python3"
  },
  "language_info": {
   "codemirror_mode": {
    "name": "ipython",
    "version": 3
   },
   "file_extension": ".py",
   "mimetype": "text/x-python",
   "name": "python",
   "nbconvert_exporter": "python",
   "pygments_lexer": "ipython3",
   "version": "3.8.5"
  }
 },
 "nbformat": 4,
 "nbformat_minor": 4
}
