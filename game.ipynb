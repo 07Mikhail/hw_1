{
 "cells": [
  {
   "cell_type": "code",
   "execution_count": 1,
   "metadata": {},
   "outputs": [],
   "source": [
    "import numpy as np"
   ]
  },
  {
   "cell_type": "code",
   "execution_count": null,
   "metadata": {},
   "outputs": [
    {
     "name": "stdout",
     "output_type": "stream",
     "text": [
      "Сумма выигрыша: -4 руб., при 5 попытках\n",
      "Средний выигрыш за 1 игру: -0.8 руб., при 5 попытках\n",
      "\n",
      "Сумма выигрыша: -8 руб., при 10 попытках\n",
      "Средний выигрыш за 1 игру: -0.8 руб., при 10 попытках\n",
      "\n",
      "Сумма выигрыша: -45 руб., при 50 попытках\n",
      "Средний выигрыш за 1 игру: -0.9 руб., при 50 попытках\n",
      "\n",
      "Сумма выигрыша: -78 руб., при 100 попытках\n",
      "Средний выигрыш за 1 игру: -0.78 руб., при 100 попытках\n",
      "\n",
      "Сумма выигрыша: -7 руб., при 150 попытках\n",
      "Средний выигрыш за 1 игру: -0.04666666666666667 руб., при 150 попытках\n",
      "\n",
      "Сумма выигрыша: -13 руб., при 200 попытках\n",
      "Средний выигрыш за 1 игру: -0.065 руб., при 200 попытках\n",
      "\n",
      "Сумма выигрыша: -219 руб., при 250 попытках\n",
      "Средний выигрыш за 1 игру: -0.876 руб., при 250 попытках\n",
      "\n",
      "Сумма выигрыша: -263 руб., при 300 попытках\n",
      "Средний выигрыш за 1 игру: -0.8766666666666667 руб., при 300 попытках\n",
      "\n",
      "Сумма выигрыша: -1298 руб., при 3000 попытках\n",
      "Средний выигрыш за 1 игру: -0.43266666666666664 руб., при 3000 попытках\n",
      "\n",
      "Сумма выигрыша: -15175 руб., при 30000 попытках\n",
      "Средний выигрыш за 1 игру: -0.5058333333333334 руб., при 30000 попытках\n",
      "\n",
      "Сумма выигрыша: -131459 руб., при 300000 попытках\n",
      "Средний выигрыш за 1 игру: -0.4381966666666667 руб., при 300000 попытках\n",
      "\n",
      "Сумма выигрыша: -1327019 руб., при 3000000 попытках\n",
      "Средний выигрыш за 1 игру: -0.4423396666666667 руб., при 3000000 попытках\n",
      "\n"
     ]
    }
   ],
   "source": [
    "def game_trials(trials):\n",
    "    we_spend = 0   # Потрачено рублей\n",
    "    we_return = 0  # Выиграно рублей\n",
    "    for i in range(trials):\n",
    "        random_1 = str(np.random.randint(0, 10))    # Случайное количество очков от 0 до 9\n",
    "        random_2 = str(np.random.randint(0, 10))    # Случайное количество очков от 0 до 9\n",
    "        random_3 = str(np.random.randint(0, 10))   # Случайное количество очков от 0 до 9\n",
    "        random_str = random_1 + random_2 + random_3\n",
    "        random_int = int(random_1 + random_2 + random_3)\n",
    "\n",
    "        if random_int == 777:\n",
    "            we_return += 200\n",
    "        elif random_int == 999:\n",
    "            we_return += 100\n",
    "        elif random_int == 555:\n",
    "            we_return += 50    \n",
    "        elif random_int == 333:\n",
    "            we_return += 15  \n",
    "        elif random_int == 111:\n",
    "             we_return += 10\n",
    "        \n",
    "        elif random_int % 100 == 77 and random_int != 777:\n",
    "            we_return += 5\n",
    "        elif random_int % 110 == 7 and random_int != 777:\n",
    "            we_return += 3\n",
    "        elif random_str[-2:] == '00':\n",
    "            we_return += 2\n",
    "        elif random_str[-1:] == '0':\n",
    "            we_return += 1\n",
    "        we_spend +=1\n",
    "        \n",
    "    result = we_return - we_spend         # Выгодна ли игра игроку?\n",
    "    result_for_1_game = result/trials     # Сколько в среднем приобретает или теряет игрок за одну игру?\n",
    "    print(f'Сумма выигрыша: {result} руб., при {trials} попытках')\n",
    "    print(f'Средний выигрыш за 1 игру: {result_for_1_game} руб., при {trials} попытках')\n",
    "        \n",
    "        \n",
    "game_trials(5)\n",
    "print()\n",
    "game_trials(10)\n",
    "print()\n",
    "game_trials(50)\n",
    "print()\n",
    "game_trials(100)\n",
    "print()\n",
    "game_trials(150)\n",
    "print()\n",
    "game_trials(200)\n",
    "print()\n",
    "game_trials(250)\n",
    "print()\n",
    "game_trials(300)\n",
    "print()\n",
    "game_trials(3000)\n",
    "print()\n",
    "game_trials(30000)\n",
    "print()\n",
    "game_trials(300000)\n",
    "print()\n",
    "game_trials(3000000)\n",
    "print()\n",
    "game_trials(30000000)"
   ]
  },
  {
   "cell_type": "markdown",
   "metadata": {},
   "source": [
    "#### Чем выше частота игр, тем менее выгодна игра и тем меньше средний выигрыш за 1 игру"
   ]
  }
 ],
 "metadata": {
  "kernelspec": {
   "display_name": "Python 3",
   "language": "python",
   "name": "python3"
  },
  "language_info": {
   "codemirror_mode": {
    "name": "ipython",
    "version": 3
   },
   "file_extension": ".py",
   "mimetype": "text/x-python",
   "name": "python",
   "nbconvert_exporter": "python",
   "pygments_lexer": "ipython3",
   "version": "3.8.5"
  }
 },
 "nbformat": 4,
 "nbformat_minor": 4
}
