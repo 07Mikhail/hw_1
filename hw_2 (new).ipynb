{
 "cells": [
  {
   "cell_type": "markdown",
   "metadata": {},
   "source": [
    "# Задание_1"
   ]
  },
  {
   "cell_type": "code",
   "execution_count": 1,
   "metadata": {},
   "outputs": [
    {
     "name": "stdout",
     "output_type": "stream",
     "text": [
      "t\n"
     ]
    }
   ],
   "source": [
    "'''\n",
    "делим на 2 - находим длину половины слова, целочисленным делением находим порядковый номер символа (срез начинается с 0)\n",
    "'''\n",
    "\n",
    "word = 'testwee'\n",
    "if len(word) % 2 != 0:\n",
    "    print(word[int(len(word)//2)])\n",
    "else:\n",
    "    print((word[int(len(word)//2)-1])+(word[int(len(word)//2)]))"
   ]
  },
  {
   "cell_type": "markdown",
   "metadata": {},
   "source": [
    "# Задание_2"
   ]
  },
  {
   "cell_type": "code",
   "execution_count": 2,
   "metadata": {},
   "outputs": [
    {
     "name": "stdout",
     "output_type": "stream",
     "text": [
      "Введи число: 2\n",
      "Введи число: 3\n",
      "Введи число: 0\n",
      "5\n"
     ]
    }
   ],
   "source": [
    "user_input = int(input('Введи число: '))\n",
    "count = 0\n",
    "\n",
    "while user_input != 0:\n",
    "    count = count + user_input\n",
    "    user_input = int(input('Введи число: '))\n",
    "print(count)"
   ]
  },
  {
   "cell_type": "markdown",
   "metadata": {},
   "source": [
    "# Задание_3"
   ]
  },
  {
   "cell_type": "code",
   "execution_count": 3,
   "metadata": {},
   "outputs": [
    {
     "name": "stdout",
     "output_type": "stream",
     "text": [
      "Alex Emma\n",
      "Arthur Kate\n",
      "John Kira\n",
      "Peter Liza\n",
      "Richard Trisha\n"
     ]
    }
   ],
   "source": [
    "boys = ['Peter', 'Alex', 'John', 'Arthur', 'Richard']\n",
    "girls = ['Kate', 'Liza', 'Kira', 'Emma', 'Trisha']\n",
    "\n",
    "\n",
    "if len(boys) != len(girls):\n",
    "    print('Внимание, кто-то может остаться без пары!')\n",
    "else:\n",
    "    boys.sort() \n",
    "    girls.sort()\n",
    "    list_zip = list(zip(boys, girls))\n",
    "    for b, g in list_zip:\n",
    "        print(b, g)"
   ]
  },
  {
   "cell_type": "markdown",
   "metadata": {},
   "source": [
    "# Задание_4"
   ]
  },
  {
   "cell_type": "code",
   "execution_count": 4,
   "metadata": {},
   "outputs": [
    {
     "name": "stdout",
     "output_type": "stream",
     "text": [
      "Thailand 28.31\n",
      "Germany 21.47\n",
      "Russia 14.62\n",
      "Poland 20.25\n"
     ]
    }
   ],
   "source": [
    "countries_temperature = [\n",
    "['Thailand', [75.2, 77, 78.8, 73.4, 68, 75.2, 77]],\n",
    "['Germany', [57.2, 55.4, 59, 59, 53.6]],\n",
    "['Russia', [35.6, 37.4, 39.2, 41, 42.8, 39.2, 35.6]],\n",
    "['Poland', [50, 50, 53.6, 57.2, 55.4, 55.4]]\n",
    "]\n",
    "\n",
    "T = 37.78\n",
    "n=0\n",
    "\n",
    "for i in countries_temperature:\n",
    "    print(i[n], round(sum(i[n+1])/len(i[n+1]) * T / 100, 2))"
   ]
  },
  {
   "cell_type": "markdown",
   "metadata": {},
   "source": [
    "# Задача_5"
   ]
  },
  {
   "cell_type": "code",
   "execution_count": 5,
   "metadata": {},
   "outputs": [
    {
     "name": "stdout",
     "output_type": "stream",
     "text": [
      "23.25\n"
     ]
    }
   ],
   "source": [
    "stream = [\n",
    "'2018-01-01,user1,3',\n",
    "'2018-01-07,user1,4',\n",
    "'2018-03-29,user1,1',\n",
    "'2018-04-04,user1,13',\n",
    "'2018-01-05,user2,7',\n",
    "'2018-06-14,user3,4',\n",
    "'2018-07-02,user3,10',\n",
    "'2018-03-21,user4,19',\n",
    "'2018-03-22,user4,4',\n",
    "'2018-04-22,user4,8',\n",
    "'2018-05-03,user4,9',\n",
    "'2018-05-11,user4,11',\n",
    "]\n",
    "\n",
    "user_dict = dict()\n",
    "\n",
    "for i in stream:\n",
    "    new_list = i.split(',')\n",
    "    date_, user, count = new_list\n",
    "    count = int(count)\n",
    "    if user in user_dict:\n",
    "        user_dict[user] += count\n",
    "    else:\n",
    "        user_dict[user] = count\n",
    "\n",
    "count_keys = len(user_dict)\n",
    "\n",
    "result = sum(user_dict.values()) / count_keys\n",
    "\n",
    "print(result)"
   ]
  },
  {
   "cell_type": "markdown",
   "metadata": {},
   "source": [
    "# Задание_6"
   ]
  },
  {
   "cell_type": "code",
   "execution_count": 6,
   "metadata": {},
   "outputs": [
    {
     "name": "stdout",
     "output_type": "stream",
     "text": [
      "Введи числа через пробел: 2 3 4 2\n",
      "[2]\n"
     ]
    }
   ],
   "source": [
    "'''\n",
    "1. С помощью генератора собираем список чисел\n",
    "2. Создаём новый список, в него дальше будем добавлять числа из генерируемого списка\n",
    "3. Итерируемся по первому списку, условием проверяем кол-во переменных (если > 1, то добавляем переменную в новый список из пункта 2)\n",
    "4. Преобразовываем во множество для уникальности значений\n",
    "5. Преобразовываем в список для сортировки\n",
    "'''\n",
    "\n",
    "user_input = [int(i) for i in input('Введи числа через пробел: ').split()]\n",
    "\n",
    "new_user_list = []\n",
    "\n",
    "for target_i in user_input:\n",
    "    if user_input.count(target_i) > 1:\n",
    "        new_user_list.append(target_i)\n",
    "\n",
    "list_set_new = list(set(new_user_list))\n",
    "list_set_new.sort()\n",
    "\n",
    "print(list_set_new)"
   ]
  }
 ],
 "metadata": {
  "kernelspec": {
   "display_name": "Python 3",
   "language": "python",
   "name": "python3"
  },
  "language_info": {
   "codemirror_mode": {
    "name": "ipython",
    "version": 3
   },
   "file_extension": ".py",
   "mimetype": "text/x-python",
   "name": "python",
   "nbconvert_exporter": "python",
   "pygments_lexer": "ipython3",
   "version": "3.8.5"
  }
 },
 "nbformat": 4,
 "nbformat_minor": 4
}
