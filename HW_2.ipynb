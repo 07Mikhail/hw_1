# Задание_1

'''
делим на 2 - находим длину половины слова, целочисленным делением находим порядковый номер символа (срез начинается с 0)
'''

word = 'testwee'
if len(word) % 2 != 0:
  print(word[int(len(word)//2)])
else:
  print((word[int(len(word)//2)-1])+(word[int(len(word)//2)]))



# Задание_2

user_input = int(input('Введи число: '))
count = 0

while user_input != 0:
  count = count + user_input
  user_input = int(input('Введи число: '))
print(count)




# Задание_3

boys = ['Peter', 'Alex', 'John', 'Arthur', 'Richard']
girls = ['Kate', 'Liza', 'Kira', 'Emma', 'Trisha']


if len(boys) != len(girls):
  print('Внимание, кто-то может остаться без пары!')
else:
  boys.sort() 
  girls.sort()
  list_zip = list(zip(boys, girls))
  for b, g in list_zip:
    print(b, g)




# Задание_4

countries_temperature = [
['Thailand', [75.2, 77, 78.8, 73.4, 68, 75.2, 77]],
['Germany', [57.2, 55.4, 59, 59, 53.6]],
['Russia', [35.6, 37.4, 39.2, 41, 42.8, 39.2, 35.6]],
['Poland', [50, 50, 53.6, 57.2, 55.4, 55.4]]
]

T = 37.78
n=0

for i in countries_temperature:
  print(i[n], round(sum(i[n+1])/len(i[n+1]) * T / 100, 2))



# Задача_5

stream = [
'2018-01-01,user1,3',
'2018-01-07,user1,4',
'2018-03-29,user1,1',
'2018-04-04,user1,13',
'2018-01-05,user2,7',
'2018-06-14,user3,4',
'2018-07-02,user3,10',
'2018-03-21,user4,19',
'2018-03-22,user4,4',
'2018-04-22,user4,8',
'2018-05-03,user4,9',
'2018-05-11,user4,11',
]

user_dict = dict()

for i in stream:
  new_list = i.split(',')
  date_, user, count = new_list
  count = int(count)
  if user in user_dict:
    user_dict[user] += count
  else:
    user_dict[user] = count

count_keys = len(user_dict)

result = sum(user_dict.values()) / count_keys

print(result)




# Задание_6

'''
1. С помощью генератора собираем список чисел
2. Создаём новый список, в него дальше будем добавлять числа из генерируемого списка
3. Итерируемся по первому списку, условием проверяем кол-во переменных (если > 1, то добавляем переменную в новый список из пункта 2)
4. Преобразовываем во множество для уникальности значений
5. Преобразовываем в список для сортировки
'''

user_input = [int(i) for i in input('Введи числа через пробел: ').split()]

new_user_list = []

for target_i in user_input:
  if user_input.count(target_i) > 1:
    new_user_list.append(target_i)

list_set_new = list(set(new_user_list))
list_set_new.sort()

print(list_set_new)
