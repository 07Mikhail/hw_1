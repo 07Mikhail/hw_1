{
 "cells": [
  {
   "cell_type": "markdown",
   "metadata": {},
   "source": [
    "#### Импортируем модули"
   ]
  },
  {
   "cell_type": "code",
   "execution_count": 9,
   "metadata": {},
   "outputs": [],
   "source": [
    "import os #Для чтения всех файлов из папки, и проверки наличия необходимого файла\n",
    "import json #Для обработки формата json в dict"
   ]
  },
  {
   "cell_type": "code",
   "execution_count": 80,
   "metadata": {},
   "outputs": [
    {
     "data": {
      "text/plain": [
       "{'user_id': 'category'}"
      ]
     },
     "execution_count": 80,
     "metadata": {},
     "output_type": "execute_result"
    }
   ],
   "source": [
    "def correct_json_to_dict():\n",
    "    with open(\"C:/Users/vokea/OneDrive/Рабочий стол/Новая папка/purchase_log.txt\", 'r', encoding='utf-8') as f:\n",
    "        data = f.readlines() #содержимое purchase_log.txt помещается в оперативную память компьютера (условие)\n",
    "        for line in data: #Перебор строк списка\n",
    "            new_dict = json.loads(line) #Перевод json в dict методом loads\n",
    "            result_d = dict()\n",
    "            for k, v in new_dict.items():\n",
    "                if new_dict[\"user_id\"] not in result_d and new_dict[\"category\"] not in result_d:\n",
    "                    result_d[new_dict[\"user_id\"]]=new_dict[\"category\"]\n",
    "                    return result_d\n",
    "\n",
    "correct_json_to_dict()"
   ]
  },
  {
   "cell_type": "code",
   "execution_count": 83,
   "metadata": {},
   "outputs": [],
   "source": [
    "def open_and_write_visit_log(result_d):\n",
    "    with open(\"C:/Users/vokea/OneDrive/Рабочий стол/Новая папка/visit_log.csv\", 'r', encoding='utf-8') as f_: #Из этого читаем\n",
    "        with open(\"C:/Users/vokea/OneDrive/Рабочий стол/Новая папка/funnel.csv\", 'w') as w2write_: #В этот - записываем\n",
    "            for line in f_: #содержимое visit_log.csv - нет; используйте только построчную обработку этого файла (условие)\n",
    "                line_list = line.strip().split(',') #Удаляем пробелы и лишние символы, и ',', переводим в список\n",
    "                if line_list[0] in result_d:\n",
    "                    w2write_.write(f\"{line_list[0]} {line_list[1]} {list(result_d.values())}'\\n'\") #Записываем\n",
    "            \n",
    "if __name__ == '__main__':\n",
    "    open_and_write_visit_log(correct_json_to_dict())"
   ]
  },
  {
   "cell_type": "code",
   "execution_count": 70,
   "metadata": {},
   "outputs": [
    {
     "name": "stdout",
     "output_type": "stream",
     "text": [
      "funnel.csv\n"
     ]
    }
   ],
   "source": [
    "def check_files():\n",
    "    for files in os.listdir(\"C:/Users/vokea/OneDrive/Рабочий стол/Новая папка/\"):\n",
    "        if 'funnel.csv' in files:\n",
    "            print(files)\n",
    "            \n",
    "check_files()"
   ]
  },
  {
   "cell_type": "code",
   "execution_count": null,
   "metadata": {},
   "outputs": [],
   "source": []
  }
 ],
 "metadata": {
  "kernelspec": {
   "display_name": "Python 3",
   "language": "python",
   "name": "python3"
  },
  "language_info": {
   "codemirror_mode": {
    "name": "ipython",
    "version": 3
   },
   "file_extension": ".py",
   "mimetype": "text/x-python",
   "name": "python",
   "nbconvert_exporter": "python",
   "pygments_lexer": "ipython3",
   "version": "3.8.5"
  }
 },
 "nbformat": 4,
 "nbformat_minor": 4
}
