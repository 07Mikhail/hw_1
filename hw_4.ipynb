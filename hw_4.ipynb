documents = [
        {"type": "passport", "number": "2207 876234", "name": "Василий Гупкин"},
        {"type": "invoice", "number": "11-2", "name": "Геннадий Покемонов"},
        {"type": "insurance", "number": "‘10006’", "name": "Аристарх Павлов"}
      ]

directories = {
        '1': ['2207 876234', '11-2'],
        '2': ['10006'],
        '3': []
      }


def find_name(user_number_input):
  for document in documents:
    if user_number_input == document["number"]:
      return f'Владелец документа: {document["name"]}'
    else:
      return f'Документ не найден в базе'


def find_shelf(user_number_input):
  for k in directories:
    if user_number_input in directories[k]:
      return f'Документ хранится на полке: {k}'
    return "Такого номера документа нет в базе."


def all_info():
  for document in documents:
    print(f'Результат: №: {document["number"]}, тип: {document["type"]}, владелец: {document["name"]}')


def new_shelf(user_number_shelf_input):
  if user_number_shelf_input not in directories.keys():
    directories['number_shelf'] = []
    return f'Полка добавлена. \nТекущий перечень полок: {list(directories.values())}'
  else:
    return f'Такая полка уже существует. \nТекущий перечень полок: {list(directories.values())}'


def del_shelf(user_number_shelf_input):
  if user_number_shelf_input in directories:
    if len(directories[user_number_shelf_input]) > 0:
      return f'На полке есть документа, удалите их перед удалением полки. Текущий перечень полок:  {list(directories.values())}'
    else:
      del directories[user_number_shelf_input]
      return f'Полка удалена. Текущий перечень полок: {list(directories.values())}'
  else:
    return 'Полки не существует'


def add_new(user_number_input, user_type_input, user_name_input, user_number_shelf_input):
  documents.append({"type": user_type_input, "number": user_number_input, "name": user_name_input})
  directories['user_number_shelf_input'] = user_number_input
  for document in documents:
    print(f'Документ добавлен. Текущий список документов: №: {document["number"]}, тип: {document["type"]}, владелец: {document["name"]}')


def user_input():
  user_input = input('Введи команду: ')
  if user_input == 'p':
    user_number_input = input('Введи номер док-та: ')
    print(find_name(user_number_input))
  elif user_input == 's':
    user_number_input = input('Введи номер док-та: ')
    print(find_shelf(user_number_input))
  elif user_input == 'l':
    return all_info()
  elif user_input == 'as':
    user_number_shelf_input = input('Введи номер полки: ')
    print(new_shelf(user_number_shelf_input))
  elif user_input == 'ds':
    user_number_shelf_input = input('Введи номер полки: ')
    print(del_shelf(user_number_shelf_input))
  elif user_input == 'ad':
    user_number_input = input('Введи номер док-та: ')
    user_type_input = input('Введите тип документа: ')
    user_name_input = input('Введите владельца документа: ')
    user_number_shelf_input = input('Введите полку для хранения: ')
    return add_new(user_number_input, user_type_input, user_name_input, user_number_shelf_input)

user_input()