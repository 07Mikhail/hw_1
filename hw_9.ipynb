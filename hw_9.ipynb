{
 "cells": [
  {
   "cell_type": "code",
   "execution_count": 2,
   "metadata": {},
   "outputs": [],
   "source": [
    "import numpy as np\n",
    "from numpy import linalg\n",
    "import matplotlib.pyplot as plt"
   ]
  },
  {
   "cell_type": "markdown",
   "metadata": {},
   "source": [
    "## Задача №1"
   ]
  },
  {
   "cell_type": "markdown",
   "metadata": {},
   "source": [
    "#### Создайте numpy array с элементами от числа N до 0 (например, для N = 10 это будет array([9, 8, 7, 6, 5, 4, 3, 2, 1, 0]))."
   ]
  },
  {
   "cell_type": "code",
   "execution_count": 53,
   "metadata": {},
   "outputs": [
    {
     "name": "stdout",
     "output_type": "stream",
     "text": [
      "Введите число: 9\n",
      "[8, 7, 6, 5, 4, 3, 2, 1, 0]\n"
     ]
    }
   ],
   "source": [
    "def np_arange():\n",
    "    some_num = int(input('Введите число: '))\n",
    "    x = np.arange(some_num)\n",
    "    y = reversed(x)\n",
    "    print(list(y))\n",
    "np_arange()"
   ]
  },
  {
   "cell_type": "markdown",
   "metadata": {},
   "source": [
    "## Задача №2"
   ]
  },
  {
   "cell_type": "markdown",
   "metadata": {},
   "source": [
    "#### Создайте диагональную матрицу с элементами от N до 0. Посчитайте сумму ее значений на диагонали."
   ]
  },
  {
   "cell_type": "code",
   "execution_count": 52,
   "metadata": {},
   "outputs": [
    {
     "name": "stdout",
     "output_type": "stream",
     "text": [
      "Число строк: 3\n",
      "Шагов: 1\n",
      "[[3 0 0]\n",
      " [0 2 0]\n",
      " [0 0 1]]\n",
      "Сумма элементов диагонали:  6\n"
     ]
    }
   ],
   "source": [
    "def diag_matrix():\n",
    "    some_num = int(input('Число строк: '))\n",
    "    step = int(input('Шагов: '))\n",
    "    x = np.diag(np.arange(some_num, 0, -step))\n",
    "    print(x)   \n",
    "    print('Сумма элементов диагонали: ', np.trace(x))\n",
    "diag_matrix()"
   ]
  },
  {
   "cell_type": "markdown",
   "metadata": {},
   "source": [
    "## Задача №3"
   ]
  },
  {
   "cell_type": "markdown",
   "metadata": {},
   "source": [
    "#### Решите систему уравнений:\n",
    "4x + 2y + z = 4\n",
    "        x + 3y = 12\n",
    "        5y + 4z = -3"
   ]
  },
  {
   "cell_type": "code",
   "execution_count": 54,
   "metadata": {},
   "outputs": [
    {
     "name": "stdout",
     "output_type": "stream",
     "text": [
      "[ 0.46666667  3.84444444 -5.55555556]\n"
     ]
    }
   ],
   "source": [
    "def lin_alg():\n",
    "    array_a = np.array([[4, 2, 1], [1, 3, 0], [0, 5, 4]]) ## левая часть\n",
    "    array_b = np.array([4, 12, -3]) ## правая часть\n",
    "    print(linalg.solve(array_a, array_b))\n",
    "lin_alg()"
   ]
  },
  {
   "cell_type": "markdown",
   "metadata": {},
   "source": [
    "## Задача №4"
   ]
  },
  {
   "cell_type": "markdown",
   "metadata": {},
   "source": [
    " #### найти косинусное сходство с users_stats"
   ]
  },
  {
   "cell_type": "code",
   "execution_count": 21,
   "metadata": {},
   "outputs": [],
   "source": [
    "users_stats = np.array(\n",
    "        [\n",
    "        [2, 1, 0, 0, 0, 0],\n",
    "        [1, 1, 2, 1, 0, 0],\n",
    "        [2, 0, 1, 0, 0, 0],\n",
    "        [1, 1, 2, 1, 0, 1],\n",
    "        [0, 0, 1, 2, 0, 0],\n",
    "        [0, 0, 0, 0, 0, 5],\n",
    "        [1, 0, 0, 0, 0, 0],\n",
    "        [0, 1, 1, 0, 0, 0],\n",
    "        [0, 0, 0, 1, 1, 3],\n",
    "        [1, 0, 0, 2, 1, 4]\n",
    "    ],\n",
    "    np.int32)"
   ]
  },
  {
   "cell_type": "code",
   "execution_count": 22,
   "metadata": {},
   "outputs": [],
   "source": [
    "next_user_stats = np.array([0, 1, 2, 0, 0, 0])"
   ]
  },
  {
   "cell_type": "code",
   "execution_count": 159,
   "metadata": {},
   "outputs": [
    {
     "name": "stdout",
     "output_type": "stream",
     "text": [
      "{0: 0.19999999999999996}\n",
      "{1: 0.8451542547285165}\n",
      "{2: 0.3999999999999999}\n",
      "{3: 0.7905694150420948}\n",
      "{4: 0.3999999999999999}\n",
      "{5: 0.0}\n",
      "{6: 0.0}\n",
      "{7: 0.9486832980505138}\n",
      "{8: 0.0}\n",
      "{9: 0.0}\n"
     ]
    }
   ],
   "source": [
    "def cosine(a, b):\n",
    "    '''\n",
    "    Расчёт косинуса угла\n",
    "    для косинусной близости векторов\n",
    "    ''' \n",
    "    a_len = np.linalg.norm(a)\n",
    "    b_len = np.linalg.norm(b)\n",
    "    return np.dot(a, b) / (a_len * b_len)\n",
    "\n",
    "for i, user in enumerate(users_stats):\n",
    "    cos = cosine(user, next_user_stats)\n",
    "    result_dict = dict()\n",
    "    result_dict[i] = float(cos)\n",
    "    final_dict = dict([max(result_dict.items(), key=lambda k_v: k_v[1])])\n",
    "#     print(result_dict)\n",
    "    print(final_dict)"
   ]
  }
 ],
 "metadata": {
  "kernelspec": {
   "display_name": "Python 3",
   "language": "python",
   "name": "python3"
  },
  "language_info": {
   "codemirror_mode": {
    "name": "ipython",
    "version": 3
   },
   "file_extension": ".py",
   "mimetype": "text/x-python",
   "name": "python",
   "nbconvert_exporter": "python",
   "pygments_lexer": "ipython3",
   "version": "3.8.5"
  }
 },
 "nbformat": 4,
 "nbformat_minor": 4
}
